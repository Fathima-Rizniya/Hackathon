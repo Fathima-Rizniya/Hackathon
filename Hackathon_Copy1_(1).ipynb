{
  "cells": [
    {
      "cell_type": "code",
      "execution_count": null,
      "id": "df6edc57",
      "metadata": {
        "id": "df6edc57",
        "outputId": "8e98f93f-9da1-42d9-b31f-a7a13a0bf0d5",
        "colab": {
          "base_uri": "https://localhost:8080/"
        }
      },
      "outputs": [
        {
          "output_type": "stream",
          "name": "stderr",
          "text": [
            "/usr/local/lib/python3.7/dist-packages/statsmodels/tools/_testing.py:19: FutureWarning: pandas.util.testing is deprecated. Use the functions in the public API at pandas.testing instead.\n",
            "  import pandas.util.testing as tm\n"
          ]
        }
      ],
      "source": [
        "import pandas as pd\n",
        "import numpy as np\n",
        "from scipy import stats\n",
        "import matplotlib.pyplot as plt\n",
        "import seaborn as sns\n",
        "import statsmodels.api as sm\n",
        "from sklearn.preprocessing import MinMaxScaler\n",
        "from sklearn.model_selection import train_test_split\n",
        "from sklearn.linear_model import LinearRegression\n",
        "from sklearn.linear_model import LogisticRegression\n",
        "from sklearn.tree import DecisionTreeRegressor\n",
        "from sklearn.tree import DecisionTreeClassifier\n",
        "from sklearn.ensemble import RandomForestRegressor\n",
        "from sklearn.ensemble import RandomForestClassifier\n",
        "from sklearn.ensemble import GradientBoostingRegressor\n",
        "from sklearn.ensemble import GradientBoostingClassifier\n",
        "from sklearn.ensemble import AdaBoostRegressor\n",
        "from sklearn.ensemble import AdaBoostClassifier\n",
        "from sklearn.metrics import mean_squared_error\n",
        "from sklearn.metrics import accuracy_score\n",
        "from sklearn.metrics import r2_score"
      ]
    },
    {
      "cell_type": "markdown",
      "id": "4f07227c",
      "metadata": {
        "id": "4f07227c"
      },
      "source": [
        "<head><h1>importing test and train</h1></head>"
      ]
    },
    {
      "cell_type": "code",
      "execution_count": null,
      "id": "12a0e4cc",
      "metadata": {
        "id": "12a0e4cc"
      },
      "outputs": [],
      "source": [
        "gametr=pd.read_csv(\"https://cdn.skillenza.com/files/5767f071-8cad-4310-af98-2a62680694ed/Train.csv\")\n",
        "gamete=pd.read_csv(\"https://cdn.skillenza.com/files/3d0bea9f-bfb8-441b-90fc-bef0b06f3c40/Test.csv\")"
      ]
    },
    {
      "cell_type": "markdown",
      "id": "d41f13d0",
      "metadata": {
        "id": "d41f13d0"
      },
      "source": [
        "<h2>dropping y</h2>"
      ]
    },
    {
      "cell_type": "code",
      "execution_count": null,
      "id": "bbec9b6b",
      "metadata": {
        "id": "bbec9b6b"
      },
      "outputs": [],
      "source": [
        "Y=gametr.Global_Sales\n",
        "y=gametr.drop(\"Global_Sales\",axis=1)"
      ]
    },
    {
      "cell_type": "markdown",
      "id": "d3157f08",
      "metadata": {
        "id": "d3157f08"
      },
      "source": [
        "<h2>concatenate train and test</h2>"
      ]
    },
    {
      "cell_type": "code",
      "execution_count": null,
      "id": "a4443f12",
      "metadata": {
        "id": "a4443f12",
        "outputId": "59185147-bb00-4464-abb2-1e18a4147bd2",
        "colab": {
          "base_uri": "https://localhost:8080/",
          "height": 206
        }
      },
      "outputs": [
        {
          "output_type": "execute_result",
          "data": {
            "text/plain": [
              "                       Name Platform  Year_of_Release         Genre Publisher  \\\n",
              "0                Wii Sports      Wii           2006.0        Sports  Nintendo   \n",
              "1         Super Mario Bros.      NES           1985.0      Platform  Nintendo   \n",
              "2            Mario Kart Wii      Wii           2008.0        Racing  Nintendo   \n",
              "3         Wii Sports Resort      Wii           2009.0        Sports  Nintendo   \n",
              "4  Pokemon Red/Pokemon Blue       GB           1996.0  Role-Playing  Nintendo   \n",
              "\n",
              "   NA_Sales  EU_Sales  JP_Sales  Critic_Score  Critic_Count User_Score  \\\n",
              "0     41.36     28.96      3.77          76.0          51.0          8   \n",
              "1     29.08      3.58      6.81           NaN           NaN        NaN   \n",
              "2     15.68     12.76      3.79          82.0          73.0        8.3   \n",
              "3     15.61     10.93      3.28          80.0          73.0          8   \n",
              "4     11.27      8.89     10.22           NaN           NaN        NaN   \n",
              "\n",
              "   User_Count Developer Rating  \n",
              "0       322.0  Nintendo      E  \n",
              "1         NaN       NaN    NaN  \n",
              "2       709.0  Nintendo      E  \n",
              "3       192.0  Nintendo      E  \n",
              "4         NaN       NaN    NaN  "
            ],
            "text/html": [
              "\n",
              "  <div id=\"df-4ec2b5f5-9876-4315-b427-b27d656fe35b\">\n",
              "    <div class=\"colab-df-container\">\n",
              "      <div>\n",
              "<style scoped>\n",
              "    .dataframe tbody tr th:only-of-type {\n",
              "        vertical-align: middle;\n",
              "    }\n",
              "\n",
              "    .dataframe tbody tr th {\n",
              "        vertical-align: top;\n",
              "    }\n",
              "\n",
              "    .dataframe thead th {\n",
              "        text-align: right;\n",
              "    }\n",
              "</style>\n",
              "<table border=\"1\" class=\"dataframe\">\n",
              "  <thead>\n",
              "    <tr style=\"text-align: right;\">\n",
              "      <th></th>\n",
              "      <th>Name</th>\n",
              "      <th>Platform</th>\n",
              "      <th>Year_of_Release</th>\n",
              "      <th>Genre</th>\n",
              "      <th>Publisher</th>\n",
              "      <th>NA_Sales</th>\n",
              "      <th>EU_Sales</th>\n",
              "      <th>JP_Sales</th>\n",
              "      <th>Critic_Score</th>\n",
              "      <th>Critic_Count</th>\n",
              "      <th>User_Score</th>\n",
              "      <th>User_Count</th>\n",
              "      <th>Developer</th>\n",
              "      <th>Rating</th>\n",
              "    </tr>\n",
              "  </thead>\n",
              "  <tbody>\n",
              "    <tr>\n",
              "      <th>0</th>\n",
              "      <td>Wii Sports</td>\n",
              "      <td>Wii</td>\n",
              "      <td>2006.0</td>\n",
              "      <td>Sports</td>\n",
              "      <td>Nintendo</td>\n",
              "      <td>41.36</td>\n",
              "      <td>28.96</td>\n",
              "      <td>3.77</td>\n",
              "      <td>76.0</td>\n",
              "      <td>51.0</td>\n",
              "      <td>8</td>\n",
              "      <td>322.0</td>\n",
              "      <td>Nintendo</td>\n",
              "      <td>E</td>\n",
              "    </tr>\n",
              "    <tr>\n",
              "      <th>1</th>\n",
              "      <td>Super Mario Bros.</td>\n",
              "      <td>NES</td>\n",
              "      <td>1985.0</td>\n",
              "      <td>Platform</td>\n",
              "      <td>Nintendo</td>\n",
              "      <td>29.08</td>\n",
              "      <td>3.58</td>\n",
              "      <td>6.81</td>\n",
              "      <td>NaN</td>\n",
              "      <td>NaN</td>\n",
              "      <td>NaN</td>\n",
              "      <td>NaN</td>\n",
              "      <td>NaN</td>\n",
              "      <td>NaN</td>\n",
              "    </tr>\n",
              "    <tr>\n",
              "      <th>2</th>\n",
              "      <td>Mario Kart Wii</td>\n",
              "      <td>Wii</td>\n",
              "      <td>2008.0</td>\n",
              "      <td>Racing</td>\n",
              "      <td>Nintendo</td>\n",
              "      <td>15.68</td>\n",
              "      <td>12.76</td>\n",
              "      <td>3.79</td>\n",
              "      <td>82.0</td>\n",
              "      <td>73.0</td>\n",
              "      <td>8.3</td>\n",
              "      <td>709.0</td>\n",
              "      <td>Nintendo</td>\n",
              "      <td>E</td>\n",
              "    </tr>\n",
              "    <tr>\n",
              "      <th>3</th>\n",
              "      <td>Wii Sports Resort</td>\n",
              "      <td>Wii</td>\n",
              "      <td>2009.0</td>\n",
              "      <td>Sports</td>\n",
              "      <td>Nintendo</td>\n",
              "      <td>15.61</td>\n",
              "      <td>10.93</td>\n",
              "      <td>3.28</td>\n",
              "      <td>80.0</td>\n",
              "      <td>73.0</td>\n",
              "      <td>8</td>\n",
              "      <td>192.0</td>\n",
              "      <td>Nintendo</td>\n",
              "      <td>E</td>\n",
              "    </tr>\n",
              "    <tr>\n",
              "      <th>4</th>\n",
              "      <td>Pokemon Red/Pokemon Blue</td>\n",
              "      <td>GB</td>\n",
              "      <td>1996.0</td>\n",
              "      <td>Role-Playing</td>\n",
              "      <td>Nintendo</td>\n",
              "      <td>11.27</td>\n",
              "      <td>8.89</td>\n",
              "      <td>10.22</td>\n",
              "      <td>NaN</td>\n",
              "      <td>NaN</td>\n",
              "      <td>NaN</td>\n",
              "      <td>NaN</td>\n",
              "      <td>NaN</td>\n",
              "      <td>NaN</td>\n",
              "    </tr>\n",
              "  </tbody>\n",
              "</table>\n",
              "</div>\n",
              "      <button class=\"colab-df-convert\" onclick=\"convertToInteractive('df-4ec2b5f5-9876-4315-b427-b27d656fe35b')\"\n",
              "              title=\"Convert this dataframe to an interactive table.\"\n",
              "              style=\"display:none;\">\n",
              "        \n",
              "  <svg xmlns=\"http://www.w3.org/2000/svg\" height=\"24px\"viewBox=\"0 0 24 24\"\n",
              "       width=\"24px\">\n",
              "    <path d=\"M0 0h24v24H0V0z\" fill=\"none\"/>\n",
              "    <path d=\"M18.56 5.44l.94 2.06.94-2.06 2.06-.94-2.06-.94-.94-2.06-.94 2.06-2.06.94zm-11 1L8.5 8.5l.94-2.06 2.06-.94-2.06-.94L8.5 2.5l-.94 2.06-2.06.94zm10 10l.94 2.06.94-2.06 2.06-.94-2.06-.94-.94-2.06-.94 2.06-2.06.94z\"/><path d=\"M17.41 7.96l-1.37-1.37c-.4-.4-.92-.59-1.43-.59-.52 0-1.04.2-1.43.59L10.3 9.45l-7.72 7.72c-.78.78-.78 2.05 0 2.83L4 21.41c.39.39.9.59 1.41.59.51 0 1.02-.2 1.41-.59l7.78-7.78 2.81-2.81c.8-.78.8-2.07 0-2.86zM5.41 20L4 18.59l7.72-7.72 1.47 1.35L5.41 20z\"/>\n",
              "  </svg>\n",
              "      </button>\n",
              "      \n",
              "  <style>\n",
              "    .colab-df-container {\n",
              "      display:flex;\n",
              "      flex-wrap:wrap;\n",
              "      gap: 12px;\n",
              "    }\n",
              "\n",
              "    .colab-df-convert {\n",
              "      background-color: #E8F0FE;\n",
              "      border: none;\n",
              "      border-radius: 50%;\n",
              "      cursor: pointer;\n",
              "      display: none;\n",
              "      fill: #1967D2;\n",
              "      height: 32px;\n",
              "      padding: 0 0 0 0;\n",
              "      width: 32px;\n",
              "    }\n",
              "\n",
              "    .colab-df-convert:hover {\n",
              "      background-color: #E2EBFA;\n",
              "      box-shadow: 0px 1px 2px rgba(60, 64, 67, 0.3), 0px 1px 3px 1px rgba(60, 64, 67, 0.15);\n",
              "      fill: #174EA6;\n",
              "    }\n",
              "\n",
              "    [theme=dark] .colab-df-convert {\n",
              "      background-color: #3B4455;\n",
              "      fill: #D2E3FC;\n",
              "    }\n",
              "\n",
              "    [theme=dark] .colab-df-convert:hover {\n",
              "      background-color: #434B5C;\n",
              "      box-shadow: 0px 1px 3px 1px rgba(0, 0, 0, 0.15);\n",
              "      filter: drop-shadow(0px 1px 2px rgba(0, 0, 0, 0.3));\n",
              "      fill: #FFFFFF;\n",
              "    }\n",
              "  </style>\n",
              "\n",
              "      <script>\n",
              "        const buttonEl =\n",
              "          document.querySelector('#df-4ec2b5f5-9876-4315-b427-b27d656fe35b button.colab-df-convert');\n",
              "        buttonEl.style.display =\n",
              "          google.colab.kernel.accessAllowed ? 'block' : 'none';\n",
              "\n",
              "        async function convertToInteractive(key) {\n",
              "          const element = document.querySelector('#df-4ec2b5f5-9876-4315-b427-b27d656fe35b');\n",
              "          const dataTable =\n",
              "            await google.colab.kernel.invokeFunction('convertToInteractive',\n",
              "                                                     [key], {});\n",
              "          if (!dataTable) return;\n",
              "\n",
              "          const docLinkHtml = 'Like what you see? Visit the ' +\n",
              "            '<a target=\"_blank\" href=https://colab.research.google.com/notebooks/data_table.ipynb>data table notebook</a>'\n",
              "            + ' to learn more about interactive tables.';\n",
              "          element.innerHTML = '';\n",
              "          dataTable['output_type'] = 'display_data';\n",
              "          await google.colab.output.renderOutput(dataTable, element);\n",
              "          const docLink = document.createElement('div');\n",
              "          docLink.innerHTML = docLinkHtml;\n",
              "          element.appendChild(docLink);\n",
              "        }\n",
              "      </script>\n",
              "    </div>\n",
              "  </div>\n",
              "  "
            ]
          },
          "metadata": {},
          "execution_count": 5
        }
      ],
      "source": [
        "game=y.append(gamete)\n",
        "game.head()"
      ]
    },
    {
      "cell_type": "code",
      "execution_count": null,
      "id": "a6109087",
      "metadata": {
        "id": "a6109087",
        "outputId": "1e5e0634-bb59-40d9-bcef-4514f25a415d",
        "colab": {
          "base_uri": "https://localhost:8080/"
        }
      },
      "outputs": [
        {
          "output_type": "execute_result",
          "data": {
            "text/plain": [
              "(16719, 14)"
            ]
          },
          "metadata": {},
          "execution_count": 6
        }
      ],
      "source": [
        "game.shape"
      ]
    },
    {
      "cell_type": "markdown",
      "id": "fcd7597b",
      "metadata": {
        "id": "fcd7597b"
      },
      "source": [
        "<h2>EDA</h2>"
      ]
    },
    {
      "cell_type": "code",
      "execution_count": null,
      "id": "78a5055a",
      "metadata": {
        "id": "78a5055a",
        "outputId": "8dad9ee7-9234-4f58-ff14-85596e638cf4",
        "colab": {
          "base_uri": "https://localhost:8080/"
        }
      },
      "outputs": [
        {
          "output_type": "execute_result",
          "data": {
            "text/plain": [
              "Name                  2\n",
              "Platform              0\n",
              "Year_of_Release     269\n",
              "Genre                 2\n",
              "Publisher            54\n",
              "NA_Sales              0\n",
              "EU_Sales              0\n",
              "JP_Sales              0\n",
              "Critic_Score       8582\n",
              "Critic_Count       8582\n",
              "User_Score         6704\n",
              "User_Count         9129\n",
              "Developer          6623\n",
              "Rating             6769\n",
              "dtype: int64"
            ]
          },
          "metadata": {},
          "execution_count": 7
        }
      ],
      "source": [
        "game.isnull().sum()"
      ]
    },
    {
      "cell_type": "code",
      "execution_count": null,
      "id": "60eb5fc1",
      "metadata": {
        "id": "60eb5fc1",
        "outputId": "24d0e8d5-c00a-4df0-aed8-e30a6e5a9853",
        "colab": {
          "base_uri": "https://localhost:8080/"
        }
      },
      "outputs": [
        {
          "output_type": "execute_result",
          "data": {
            "text/plain": [
              "1696"
            ]
          },
          "metadata": {},
          "execution_count": 8
        }
      ],
      "source": [
        "game.Developer.nunique()"
      ]
    },
    {
      "cell_type": "code",
      "execution_count": null,
      "id": "87edc0e5",
      "metadata": {
        "id": "87edc0e5",
        "outputId": "6408c6f1-5ed1-499d-fc05-b5f3aeb81b2f",
        "colab": {
          "base_uri": "https://localhost:8080/"
        }
      },
      "outputs": [
        {
          "output_type": "execute_result",
          "data": {
            "text/plain": [
              "580"
            ]
          },
          "metadata": {},
          "execution_count": 9
        }
      ],
      "source": [
        "game.Publisher.nunique()"
      ]
    },
    {
      "cell_type": "code",
      "execution_count": null,
      "id": "b07bbb61",
      "metadata": {
        "id": "b07bbb61",
        "outputId": "96503aac-c075-49dc-dbc3-1beeda92f835",
        "colab": {
          "base_uri": "https://localhost:8080/"
        }
      },
      "outputs": [
        {
          "output_type": "execute_result",
          "data": {
            "text/plain": [
              "Need for Speed: Most Wanted                         12\n",
              "LEGO Marvel Super Heroes                             9\n",
              "Madden NFL 07                                        9\n",
              "Ratatouille                                          9\n",
              "FIFA 14                                              9\n",
              "                                                    ..\n",
              "Sherlock Holmes and the Mystery of Osborne House     1\n",
              "The King of Fighters '95 (CD)                        1\n",
              "Megamind: Mega Team Unite                            1\n",
              "Perfect Weapon                                       1\n",
              "Dance Sensation!                                     1\n",
              "Name: Name, Length: 11562, dtype: int64"
            ]
          },
          "metadata": {},
          "execution_count": 10
        }
      ],
      "source": [
        "game.Name.value_counts()"
      ]
    },
    {
      "cell_type": "code",
      "execution_count": null,
      "id": "7c4f4834",
      "metadata": {
        "id": "7c4f4834"
      },
      "outputs": [],
      "source": [
        "game.Name.fillna(\"Unknown\",inplace=True)"
      ]
    },
    {
      "cell_type": "code",
      "execution_count": null,
      "id": "f0748df8",
      "metadata": {
        "id": "f0748df8",
        "outputId": "6ea5ea94-4704-41f4-9f6b-198f2c800744",
        "colab": {
          "base_uri": "https://localhost:8080/"
        }
      },
      "outputs": [
        {
          "output_type": "stream",
          "name": "stdout",
          "text": [
            "          Name Platform  Year_of_Release Genre              Publisher  \\\n",
            "659    Unknown      GEN           1993.0   NaN  Acclaim Entertainment   \n",
            "12103  Unknown      GEN           1993.0   NaN  Acclaim Entertainment   \n",
            "\n",
            "       NA_Sales  EU_Sales  JP_Sales  Critic_Score  Critic_Count User_Score  \\\n",
            "659        1.78      0.53      0.00           NaN           NaN        NaN   \n",
            "12103      0.00      0.00      0.03           NaN           NaN        NaN   \n",
            "\n",
            "       User_Count Developer Rating  \n",
            "659           NaN       NaN    NaN  \n",
            "12103         NaN       NaN    NaN  \n"
          ]
        }
      ],
      "source": [
        "dataframe = pd.DataFrame(game, columns = ['Name', 'Platform', 'Year_of_Release', 'Genre','Publisher','NA_Sales','EU_Sales','JP_Sales','Critic_Score','Critic_Count','User_Score','User_Count','Developer','Rating'])\n",
        "rslt_df = dataframe.loc[dataframe['Name'] == \"Unknown\"]\n",
        "  \n",
        "print(rslt_df)"
      ]
    },
    {
      "cell_type": "code",
      "execution_count": null,
      "id": "bfb2fd72",
      "metadata": {
        "id": "bfb2fd72"
      },
      "outputs": [],
      "source": [
        "game.Year_of_Release.fillna(\"NotGiven\",inplace=True)"
      ]
    },
    {
      "cell_type": "code",
      "execution_count": null,
      "id": "07af2ccf",
      "metadata": {
        "id": "07af2ccf",
        "outputId": "bca32900-db32-42cf-810e-7b1f27a8f123",
        "colab": {
          "base_uri": "https://localhost:8080/",
          "height": 514
        }
      },
      "outputs": [
        {
          "output_type": "execute_result",
          "data": {
            "text/plain": [
              "<matplotlib.axes._subplots.AxesSubplot at 0x7f97d8020ed0>"
            ]
          },
          "metadata": {},
          "execution_count": 14
        },
        {
          "output_type": "display_data",
          "data": {
            "text/plain": [
              "<Figure size 1080x576 with 1 Axes>"
            ],
            "image/png": "[encoded data removed]"
          },
          "metadata": {
            "needs_background": "light"
          }
        }
      ],
      "source": [
        "plt.figure(figsize=(15,8))\n",
        "sns.countplot(x=\"Genre\",data=game)"
      ]
    },
    {
      "cell_type": "code",
      "execution_count": null,
      "id": "8c3d3afc",
      "metadata": {
        "id": "8c3d3afc"
      },
      "outputs": [],
      "source": [
        "game.Genre.fillna(\"Misc\",inplace=True)"
      ]
    },
    {
      "cell_type": "code",
      "execution_count": null,
      "id": "250af22e",
      "metadata": {
        "id": "250af22e"
      },
      "outputs": [],
      "source": [
        "game.Publisher.fillna(\"Unknown\",inplace=True)"
      ]
    },
    {
      "cell_type": "code",
      "execution_count": null,
      "id": "02933614",
      "metadata": {
        "id": "02933614",
        "outputId": "06682106-1af8-44f0-b43a-660e254d1530",
        "colab": {
          "base_uri": "https://localhost:8080/"
        }
      },
      "outputs": [
        {
          "output_type": "execute_result",
          "data": {
            "text/plain": [
              "Name                  0\n",
              "Platform              0\n",
              "Year_of_Release       0\n",
              "Genre                 0\n",
              "Publisher             0\n",
              "NA_Sales              0\n",
              "EU_Sales              0\n",
              "JP_Sales              0\n",
              "Critic_Score       8582\n",
              "Critic_Count       8582\n",
              "User_Score         6704\n",
              "User_Count         9129\n",
              "Developer          6623\n",
              "Rating             6769\n",
              "dtype: int64"
            ]
          },
          "metadata": {},
          "execution_count": 17
        }
      ],
      "source": [
        "game.isnull().sum()"
      ]
    },
    {
      "cell_type": "code",
      "execution_count": null,
      "id": "b624f197",
      "metadata": {
        "id": "b624f197",
        "outputId": "e250ad7d-4d8a-4c4b-fd43-5c8e6c87a5fb",
        "colab": {
          "base_uri": "https://localhost:8080/"
        }
      },
      "outputs": [
        {
          "output_type": "execute_result",
          "data": {
            "text/plain": [
              "68.96767850559173"
            ]
          },
          "metadata": {},
          "execution_count": 18
        }
      ],
      "source": [
        "game.Critic_Score.mean()"
      ]
    },
    {
      "cell_type": "code",
      "execution_count": null,
      "id": "86b057bc",
      "metadata": {
        "id": "86b057bc"
      },
      "outputs": [],
      "source": [
        "game.Critic_Score.fillna(68.96767850559173,inplace=True)"
      ]
    },
    {
      "cell_type": "code",
      "execution_count": null,
      "id": "8026f97a",
      "metadata": {
        "id": "8026f97a",
        "outputId": "a812dc8c-5dc1-4612-c31d-9e06b0bd45fd",
        "colab": {
          "base_uri": "https://localhost:8080/"
        }
      },
      "outputs": [
        {
          "output_type": "execute_result",
          "data": {
            "text/plain": [
              "Name                  0\n",
              "Platform              0\n",
              "Year_of_Release       0\n",
              "Genre                 0\n",
              "Publisher             0\n",
              "NA_Sales              0\n",
              "EU_Sales              0\n",
              "JP_Sales              0\n",
              "Critic_Score          0\n",
              "Critic_Count       8582\n",
              "User_Score         6704\n",
              "User_Count         9129\n",
              "Developer          6623\n",
              "Rating             6769\n",
              "dtype: int64"
            ]
          },
          "metadata": {},
          "execution_count": 20
        }
      ],
      "source": [
        "game.isnull().sum()"
      ]
    },
    {
      "cell_type": "code",
      "execution_count": null,
      "id": "53b7460e",
      "metadata": {
        "id": "53b7460e",
        "outputId": "bd30dc67-11ca-4aca-bc03-7c90318b24d8",
        "colab": {
          "base_uri": "https://localhost:8080/"
        }
      },
      "outputs": [
        {
          "output_type": "execute_result",
          "data": {
            "text/plain": [
              "array([ 51.,  nan,  73.,  65.,  41.,  80.,  64.,  63.,  45.,  33.,  50.,\n",
              "        58.,  62.,  37.,  54.,  81.,  89.,  21., 100.,  39.,  56.,  66.,\n",
              "        57.,  86.,  74.,  16.,  82.,  67.,  29.,  15.,  70.,  99.,  20.,\n",
              "        87.,  23.,  24.,  10.,  27.,  42.,  91.,  53.,  75.,  46.,  84.,\n",
              "        38.,  12.,  90.,  97.,  44., 105.,  77.,  68.,  28.,  94.,  96.,\n",
              "        61.,  22.,  88.,  47.,  98.,  85.,  13.,   8.,  95.,  17.,  35.,\n",
              "        19.,  48.,  14., 113.,  83.,  72.,  30.,  69.,  76.,  18.,  34.,\n",
              "        40., 101.,   9.,  32.,  78.,  36.,  25.,  59.,  31.,  79.,  26.,\n",
              "        49.,  60.,  11.,  43., 107.,   7.,  71.,  55.,  52.,  92.,   4.,\n",
              "        93.,   5.,   6., 103., 102., 106.,   3., 104.])"
            ]
          },
          "metadata": {},
          "execution_count": 21
        }
      ],
      "source": [
        "game.Critic_Count.unique()"
      ]
    },
    {
      "cell_type": "code",
      "execution_count": null,
      "id": "847e3899",
      "metadata": {
        "id": "847e3899",
        "outputId": "a5780822-ca4b-4cc5-b92c-380dcb56e84e",
        "colab": {
          "base_uri": "https://localhost:8080/"
        }
      },
      "outputs": [
        {
          "output_type": "execute_result",
          "data": {
            "text/plain": [
              "0    4.0\n",
              "dtype: float64"
            ]
          },
          "metadata": {},
          "execution_count": 22
        }
      ],
      "source": [
        "game.Critic_Count.mode()"
      ]
    },
    {
      "cell_type": "code",
      "execution_count": null,
      "id": "ecf2dade",
      "metadata": {
        "id": "ecf2dade"
      },
      "outputs": [],
      "source": [
        "game.Critic_Count.fillna(4,inplace=True)"
      ]
    },
    {
      "cell_type": "code",
      "execution_count": null,
      "id": "7239c43a",
      "metadata": {
        "id": "7239c43a",
        "outputId": "b42a5858-0775-41b2-a392-5df9d3a0389a",
        "colab": {
          "base_uri": "https://localhost:8080/"
        }
      },
      "outputs": [
        {
          "output_type": "execute_result",
          "data": {
            "text/plain": [
              "array([ 51.,   4.,  73.,  65.,  41.,  80.,  64.,  63.,  45.,  33.,  50.,\n",
              "        58.,  62.,  37.,  54.,  81.,  89.,  21., 100.,  39.,  56.,  66.,\n",
              "        57.,  86.,  74.,  16.,  82.,  67.,  29.,  15.,  70.,  99.,  20.,\n",
              "        87.,  23.,  24.,  10.,  27.,  42.,  91.,  53.,  75.,  46.,  84.,\n",
              "        38.,  12.,  90.,  97.,  44., 105.,  77.,  68.,  28.,  94.,  96.,\n",
              "        61.,  22.,  88.,  47.,  98.,  85.,  13.,   8.,  95.,  17.,  35.,\n",
              "        19.,  48.,  14., 113.,  83.,  72.,  30.,  69.,  76.,  18.,  34.,\n",
              "        40., 101.,   9.,  32.,  78.,  36.,  25.,  59.,  31.,  79.,  26.,\n",
              "        49.,  60.,  11.,  43., 107.,   7.,  71.,  55.,  52.,  92.,  93.,\n",
              "         5.,   6., 103., 102., 106.,   3., 104.])"
            ]
          },
          "metadata": {},
          "execution_count": 24
        }
      ],
      "source": [
        "game.Critic_Count.unique()"
      ]
    },
    {
      "cell_type": "code",
      "execution_count": null,
      "id": "549f4e18",
      "metadata": {
        "id": "549f4e18",
        "outputId": "7a53fb65-7e12-4f38-f546-2098ea873cba",
        "colab": {
          "base_uri": "https://localhost:8080/"
        }
      },
      "outputs": [
        {
          "output_type": "execute_result",
          "data": {
            "text/plain": [
              "0    4.0\n",
              "dtype: float64"
            ]
          },
          "metadata": {},
          "execution_count": 25
        }
      ],
      "source": [
        "game.User_Count.mode()"
      ]
    },
    {
      "cell_type": "code",
      "execution_count": null,
      "id": "d671fac5",
      "metadata": {
        "id": "d671fac5"
      },
      "outputs": [],
      "source": [
        "game.User_Count.fillna(4,inplace=True)"
      ]
    },
    {
      "cell_type": "code",
      "execution_count": null,
      "id": "209558c9",
      "metadata": {
        "id": "209558c9"
      },
      "outputs": [],
      "source": [
        "game.Developer.fillna(\"Unknown\",inplace=True)"
      ]
    },
    {
      "cell_type": "code",
      "execution_count": null,
      "id": "3f77c913",
      "metadata": {
        "id": "3f77c913",
        "outputId": "1604197a-008a-4129-86c9-53e95f4f5b0f",
        "colab": {
          "base_uri": "https://localhost:8080/"
        }
      },
      "outputs": [
        {
          "output_type": "stream",
          "name": "stdout",
          "text": [
            "9129\n"
          ]
        }
      ],
      "source": [
        "game['User_Score'] = game['User_Score'].replace('tbd', np.nan)\n",
        "print(game['User_Score'].isna().sum())\n"
      ]
    },
    {
      "cell_type": "code",
      "execution_count": null,
      "id": "a5360ae2",
      "metadata": {
        "id": "a5360ae2",
        "outputId": "9ff76c79-064f-45b7-bcca-962380f392a6",
        "colab": {
          "base_uri": "https://localhost:8080/"
        }
      },
      "outputs": [
        {
          "output_type": "execute_result",
          "data": {
            "text/plain": [
              "array(['8', nan, '8.3', '8.5', '6.6', '8.4', '8.6', '7.7', '6.3', '7.4',\n",
              "       '8.2', '9', '7.9', '8.1', '8.7', '7.1', '3.4', '5.3', '4.8', '3.2',\n",
              "       '8.9', '6.4', '7.8', '7.5', '2.6', '7.2', '9.2', '7', '7.3', '4.3',\n",
              "       '7.6', '5.7', '5', '9.1', '6.5', '8.8', '6.9', '9.4', '6.8', '6.1',\n",
              "       '6.7', '5.4', '4', '4.9', '4.5', '9.3', '6.2', '4.2', '6', '3.7',\n",
              "       '4.1', '5.8', '5.6', '5.5', '4.4', '4.6', '5.9', '3.9', '3.1',\n",
              "       '2.9', '5.2', '3.3', '4.7', '5.1', '3.5', '2.5', '1.9', '3', '2.7',\n",
              "       '2.2', '2', '9.5', '2.1', '3.6', '2.8', '1.8', '3.8', '0', '1.6',\n",
              "       '9.6', '2.4', '1.7', '1.1', '0.3', '1.5', '0.7', '1.2', '2.3',\n",
              "       '0.5', '0.6', '1.4', '0.9', '1', '1.3', '0.2', '9.7'], dtype=object)"
            ]
          },
          "metadata": {},
          "execution_count": 29
        }
      ],
      "source": [
        "game.User_Score.unique()"
      ]
    },
    {
      "cell_type": "code",
      "execution_count": null,
      "id": "6430d662",
      "metadata": {
        "id": "6430d662",
        "outputId": "b2f17a30-f863-4990-c2ff-21cd1481f6d8",
        "colab": {
          "base_uri": "https://localhost:8080/"
        }
      },
      "outputs": [
        {
          "output_type": "stream",
          "name": "stdout",
          "text": [
            "<class 'pandas.core.frame.DataFrame'>\n",
            "Int64Index: 16719 entries, 0 to 2142\n",
            "Data columns (total 14 columns):\n",
            " #   Column           Non-Null Count  Dtype  \n",
            "---  ------           --------------  -----  \n",
            " 0   Name             16719 non-null  object \n",
            " 1   Platform         16719 non-null  object \n",
            " 2   Year_of_Release  16719 non-null  object \n",
            " 3   Genre            16719 non-null  object \n",
            " 4   Publisher        16719 non-null  object \n",
            " 5   NA_Sales         16719 non-null  float64\n",
            " 6   EU_Sales         16719 non-null  float64\n",
            " 7   JP_Sales         16719 non-null  float64\n",
            " 8   Critic_Score     16719 non-null  float64\n",
            " 9   Critic_Count     16719 non-null  float64\n",
            " 10  User_Score       7590 non-null   object \n",
            " 11  User_Count       16719 non-null  float64\n",
            " 12  Developer        16719 non-null  object \n",
            " 13  Rating           9950 non-null   object \n",
            "dtypes: float64(6), object(8)\n",
            "memory usage: 2.4+ MB\n"
          ]
        }
      ],
      "source": [
        "game.info()"
      ]
    },
    {
      "cell_type": "code",
      "execution_count": null,
      "id": "3bd9fc8a",
      "metadata": {
        "id": "3bd9fc8a",
        "outputId": "051dc08f-44d6-46e7-d79e-31474f72290f",
        "colab": {
          "base_uri": "https://localhost:8080/"
        }
      },
      "outputs": [
        {
          "output_type": "execute_result",
          "data": {
            "text/plain": [
              "0    7.8\n",
              "dtype: object"
            ]
          },
          "metadata": {},
          "execution_count": 31
        }
      ],
      "source": [
        "game.User_Score.mode()"
      ]
    },
    {
      "cell_type": "code",
      "execution_count": null,
      "id": "49205401",
      "metadata": {
        "id": "49205401"
      },
      "outputs": [],
      "source": [
        "game.User_Score.fillna(7.8,inplace=True)"
      ]
    },
    {
      "cell_type": "code",
      "execution_count": null,
      "id": "10d0cf1f",
      "metadata": {
        "id": "10d0cf1f",
        "outputId": "ebb755c0-6b61-478d-aaeb-e6ed945f50c2",
        "colab": {
          "base_uri": "https://localhost:8080/"
        }
      },
      "outputs": [
        {
          "output_type": "execute_result",
          "data": {
            "text/plain": [
              "array(['E', nan, 'M', 'T', 'E10+', 'K-A', 'AO', 'EC', 'RP'], dtype=object)"
            ]
          },
          "metadata": {},
          "execution_count": 33
        }
      ],
      "source": [
        "game.Rating.unique()"
      ]
    },
    {
      "cell_type": "code",
      "execution_count": null,
      "id": "964bc2ea",
      "metadata": {
        "id": "964bc2ea",
        "outputId": "6a4d5be0-cbdd-4e77-b286-f6415fc7eca9",
        "colab": {
          "base_uri": "https://localhost:8080/"
        }
      },
      "outputs": [
        {
          "output_type": "execute_result",
          "data": {
            "text/plain": [
              "0          E\n",
              "1        NaN\n",
              "2          E\n",
              "3          E\n",
              "4        NaN\n",
              "        ... \n",
              "2138       M\n",
              "2139       M\n",
              "2140     NaN\n",
              "2141    E10+\n",
              "2142       E\n",
              "Name: Rating, Length: 16719, dtype: object"
            ]
          },
          "metadata": {},
          "execution_count": 34
        }
      ],
      "source": [
        "game.Rating.replace('K-A','E')"
      ]
    },
    {
      "cell_type": "code",
      "execution_count": null,
      "id": "36405def",
      "metadata": {
        "id": "36405def"
      },
      "outputs": [],
      "source": [
        "game.Rating.fillna('RP',inplace=True)"
      ]
    },
    {
      "cell_type": "code",
      "execution_count": null,
      "id": "9e09cbfb",
      "metadata": {
        "id": "9e09cbfb",
        "outputId": "ce9d84e4-19bf-439a-8dec-f1129ba8f63b",
        "colab": {
          "base_uri": "https://localhost:8080/"
        }
      },
      "outputs": [
        {
          "output_type": "execute_result",
          "data": {
            "text/plain": [
              "Name               0\n",
              "Platform           0\n",
              "Year_of_Release    0\n",
              "Genre              0\n",
              "Publisher          0\n",
              "NA_Sales           0\n",
              "EU_Sales           0\n",
              "JP_Sales           0\n",
              "Critic_Score       0\n",
              "Critic_Count       0\n",
              "User_Score         0\n",
              "User_Count         0\n",
              "Developer          0\n",
              "Rating             0\n",
              "dtype: int64"
            ]
          },
          "metadata": {},
          "execution_count": 36
        }
      ],
      "source": [
        "game.isnull().sum()"
      ]
    },
    {
      "cell_type": "code",
      "execution_count": null,
      "id": "286d728d",
      "metadata": {
        "id": "286d728d"
      },
      "outputs": [],
      "source": [
        "game = game.astype({\"User_Score\": float})"
      ]
    },
    {
      "cell_type": "code",
      "execution_count": null,
      "id": "af149312",
      "metadata": {
        "id": "af149312",
        "outputId": "4a3995de-908c-4c83-9481-0c7a7b92b089",
        "colab": {
          "base_uri": "https://localhost:8080/"
        }
      },
      "outputs": [
        {
          "output_type": "stream",
          "name": "stdout",
          "text": [
            "<class 'pandas.core.frame.DataFrame'>\n",
            "Int64Index: 16719 entries, 0 to 2142\n",
            "Data columns (total 14 columns):\n",
            " #   Column           Non-Null Count  Dtype  \n",
            "---  ------           --------------  -----  \n",
            " 0   Name             16719 non-null  object \n",
            " 1   Platform         16719 non-null  object \n",
            " 2   Year_of_Release  16719 non-null  object \n",
            " 3   Genre            16719 non-null  object \n",
            " 4   Publisher        16719 non-null  object \n",
            " 5   NA_Sales         16719 non-null  float64\n",
            " 6   EU_Sales         16719 non-null  float64\n",
            " 7   JP_Sales         16719 non-null  float64\n",
            " 8   Critic_Score     16719 non-null  float64\n",
            " 9   Critic_Count     16719 non-null  float64\n",
            " 10  User_Score       16719 non-null  float64\n",
            " 11  User_Count       16719 non-null  float64\n",
            " 12  Developer        16719 non-null  object \n",
            " 13  Rating           16719 non-null  object \n",
            "dtypes: float64(7), object(7)\n",
            "memory usage: 2.4+ MB\n"
          ]
        }
      ],
      "source": [
        "game.info()"
      ]
    },
    {
      "cell_type": "code",
      "execution_count": null,
      "id": "84134077",
      "metadata": {
        "id": "84134077"
      },
      "outputs": [],
      "source": [
        " game.User_Score = game.User_Score.apply(lambda x: x*10)"
      ]
    },
    {
      "cell_type": "code",
      "execution_count": null,
      "id": "dfc4e372",
      "metadata": {
        "id": "dfc4e372",
        "outputId": "8ae5d1bd-a64d-414d-b359-e7f927bfa6a0",
        "colab": {
          "base_uri": "https://localhost:8080/",
          "height": 206
        }
      },
      "outputs": [
        {
          "output_type": "execute_result",
          "data": {
            "text/plain": [
              "                       Name Platform Year_of_Release         Genre Publisher  \\\n",
              "0                Wii Sports      Wii          2006.0        Sports  Nintendo   \n",
              "1         Super Mario Bros.      NES          1985.0      Platform  Nintendo   \n",
              "2            Mario Kart Wii      Wii          2008.0        Racing  Nintendo   \n",
              "3         Wii Sports Resort      Wii          2009.0        Sports  Nintendo   \n",
              "4  Pokemon Red/Pokemon Blue       GB          1996.0  Role-Playing  Nintendo   \n",
              "\n",
              "   NA_Sales  EU_Sales  JP_Sales  Critic_Score  Critic_Count  User_Score  \\\n",
              "0     41.36     28.96      3.77     76.000000          51.0        80.0   \n",
              "1     29.08      3.58      6.81     68.967679           4.0        78.0   \n",
              "2     15.68     12.76      3.79     82.000000          73.0        83.0   \n",
              "3     15.61     10.93      3.28     80.000000          73.0        80.0   \n",
              "4     11.27      8.89     10.22     68.967679           4.0        78.0   \n",
              "\n",
              "   User_Count Developer Rating  \n",
              "0       322.0  Nintendo      E  \n",
              "1         4.0   Unknown     RP  \n",
              "2       709.0  Nintendo      E  \n",
              "3       192.0  Nintendo      E  \n",
              "4         4.0   Unknown     RP  "
            ],
            "text/html": [
              "\n",
              "  <div id=\"df-3092457e-4526-4b0a-b469-eff9602328ec\">\n",
              "    <div class=\"colab-df-container\">\n",
              "      <div>\n",
              "<style scoped>\n",
              "    .dataframe tbody tr th:only-of-type {\n",
              "        vertical-align: middle;\n",
              "    }\n",
              "\n",
              "    .dataframe tbody tr th {\n",
              "        vertical-align: top;\n",
              "    }\n",
              "\n",
              "    .dataframe thead th {\n",
              "        text-align: right;\n",
              "    }\n",
              "</style>\n",
              "<table border=\"1\" class=\"dataframe\">\n",
              "  <thead>\n",
              "    <tr style=\"text-align: right;\">\n",
              "      <th></th>\n",
              "      <th>Name</th>\n",
              "      <th>Platform</th>\n",
              "      <th>Year_of_Release</th>\n",
              "      <th>Genre</th>\n",
              "      <th>Publisher</th>\n",
              "      <th>NA_Sales</th>\n",
              "      <th>EU_Sales</th>\n",
              "      <th>JP_Sales</th>\n",
              "      <th>Critic_Score</th>\n",
              "      <th>Critic_Count</th>\n",
              "      <th>User_Score</th>\n",
              "      <th>User_Count</th>\n",
              "      <th>Developer</th>\n",
              "      <th>Rating</th>\n",
              "    </tr>\n",
              "  </thead>\n",
              "  <tbody>\n",
              "    <tr>\n",
              "      <th>0</th>\n",
              "      <td>Wii Sports</td>\n",
              "      <td>Wii</td>\n",
              "      <td>2006.0</td>\n",
              "      <td>Sports</td>\n",
              "      <td>Nintendo</td>\n",
              "      <td>41.36</td>\n",
              "      <td>28.96</td>\n",
              "      <td>3.77</td>\n",
              "      <td>76.000000</td>\n",
              "      <td>51.0</td>\n",
              "      <td>80.0</td>\n",
              "      <td>322.0</td>\n",
              "      <td>Nintendo</td>\n",
              "      <td>E</td>\n",
              "    </tr>\n",
              "    <tr>\n",
              "      <th>1</th>\n",
              "      <td>Super Mario Bros.</td>\n",
              "      <td>NES</td>\n",
              "      <td>1985.0</td>\n",
              "      <td>Platform</td>\n",
              "      <td>Nintendo</td>\n",
              "      <td>29.08</td>\n",
              "      <td>3.58</td>\n",
              "      <td>6.81</td>\n",
              "      <td>68.967679</td>\n",
              "      <td>4.0</td>\n",
              "      <td>78.0</td>\n",
              "      <td>4.0</td>\n",
              "      <td>Unknown</td>\n",
              "      <td>RP</td>\n",
              "    </tr>\n",
              "    <tr>\n",
              "      <th>2</th>\n",
              "      <td>Mario Kart Wii</td>\n",
              "      <td>Wii</td>\n",
              "      <td>2008.0</td>\n",
              "      <td>Racing</td>\n",
              "      <td>Nintendo</td>\n",
              "      <td>15.68</td>\n",
              "      <td>12.76</td>\n",
              "      <td>3.79</td>\n",
              "      <td>82.000000</td>\n",
              "      <td>73.0</td>\n",
              "      <td>83.0</td>\n",
              "      <td>709.0</td>\n",
              "      <td>Nintendo</td>\n",
              "      <td>E</td>\n",
              "    </tr>\n",
              "    <tr>\n",
              "      <th>3</th>\n",
              "      <td>Wii Sports Resort</td>\n",
              "      <td>Wii</td>\n",
              "      <td>2009.0</td>\n",
              "      <td>Sports</td>\n",
              "      <td>Nintendo</td>\n",
              "      <td>15.61</td>\n",
              "      <td>10.93</td>\n",
              "      <td>3.28</td>\n",
              "      <td>80.000000</td>\n",
              "      <td>73.0</td>\n",
              "      <td>80.0</td>\n",
              "      <td>192.0</td>\n",
              "      <td>Nintendo</td>\n",
              "      <td>E</td>\n",
              "    </tr>\n",
              "    <tr>\n",
              "      <th>4</th>\n",
              "      <td>Pokemon Red/Pokemon Blue</td>\n",
              "      <td>GB</td>\n",
              "      <td>1996.0</td>\n",
              "      <td>Role-Playing</td>\n",
              "      <td>Nintendo</td>\n",
              "      <td>11.27</td>\n",
              "      <td>8.89</td>\n",
              "      <td>10.22</td>\n",
              "      <td>68.967679</td>\n",
              "      <td>4.0</td>\n",
              "      <td>78.0</td>\n",
              "      <td>4.0</td>\n",
              "      <td>Unknown</td>\n",
              "      <td>RP</td>\n",
              "    </tr>\n",
              "  </tbody>\n",
              "</table>\n",
              "</div>\n",
              "      <button class=\"colab-df-convert\" onclick=\"convertToInteractive('df-3092457e-4526-4b0a-b469-eff9602328ec')\"\n",
              "              title=\"Convert this dataframe to an interactive table.\"\n",
              "              style=\"display:none;\">\n",
              "        \n",
              "  <svg xmlns=\"http://www.w3.org/2000/svg\" height=\"24px\"viewBox=\"0 0 24 24\"\n",
              "       width=\"24px\">\n",
              "    <path d=\"M0 0h24v24H0V0z\" fill=\"none\"/>\n",
              "    <path d=\"M18.56 5.44l.94 2.06.94-2.06 2.06-.94-2.06-.94-.94-2.06-.94 2.06-2.06.94zm-11 1L8.5 8.5l.94-2.06 2.06-.94-2.06-.94L8.5 2.5l-.94 2.06-2.06.94zm10 10l.94 2.06.94-2.06 2.06-.94-2.06-.94-.94-2.06-.94 2.06-2.06.94z\"/><path d=\"M17.41 7.96l-1.37-1.37c-.4-.4-.92-.59-1.43-.59-.52 0-1.04.2-1.43.59L10.3 9.45l-7.72 7.72c-.78.78-.78 2.05 0 2.83L4 21.41c.39.39.9.59 1.41.59.51 0 1.02-.2 1.41-.59l7.78-7.78 2.81-2.81c.8-.78.8-2.07 0-2.86zM5.41 20L4 18.59l7.72-7.72 1.47 1.35L5.41 20z\"/>\n",
              "  </svg>\n",
              "      </button>\n",
              "      \n",
              "  <style>\n",
              "    .colab-df-container {\n",
              "      display:flex;\n",
              "      flex-wrap:wrap;\n",
              "      gap: 12px;\n",
              "    }\n",
              "\n",
              "    .colab-df-convert {\n",
              "      background-color: #E8F0FE;\n",
              "      border: none;\n",
              "      border-radius: 50%;\n",
              "      cursor: pointer;\n",
              "      display: none;\n",
              "      fill: #1967D2;\n",
              "      height: 32px;\n",
              "      padding: 0 0 0 0;\n",
              "      width: 32px;\n",
              "    }\n",
              "\n",
              "    .colab-df-convert:hover {\n",
              "      background-color: #E2EBFA;\n",
              "      box-shadow: 0px 1px 2px rgba(60, 64, 67, 0.3), 0px 1px 3px 1px rgba(60, 64, 67, 0.15);\n",
              "      fill: #174EA6;\n",
              "    }\n",
              "\n",
              "    [theme=dark] .colab-df-convert {\n",
              "      background-color: #3B4455;\n",
              "      fill: #D2E3FC;\n",
              "    }\n",
              "\n",
              "    [theme=dark] .colab-df-convert:hover {\n",
              "      background-color: #434B5C;\n",
              "      box-shadow: 0px 1px 3px 1px rgba(0, 0, 0, 0.15);\n",
              "      filter: drop-shadow(0px 1px 2px rgba(0, 0, 0, 0.3));\n",
              "      fill: #FFFFFF;\n",
              "    }\n",
              "  </style>\n",
              "\n",
              "      <script>\n",
              "        const buttonEl =\n",
              "          document.querySelector('#df-3092457e-4526-4b0a-b469-eff9602328ec button.colab-df-convert');\n",
              "        buttonEl.style.display =\n",
              "          google.colab.kernel.accessAllowed ? 'block' : 'none';\n",
              "\n",
              "        async function convertToInteractive(key) {\n",
              "          const element = document.querySelector('#df-3092457e-4526-4b0a-b469-eff9602328ec');\n",
              "          const dataTable =\n",
              "            await google.colab.kernel.invokeFunction('convertToInteractive',\n",
              "                                                     [key], {});\n",
              "          if (!dataTable) return;\n",
              "\n",
              "          const docLinkHtml = 'Like what you see? Visit the ' +\n",
              "            '<a target=\"_blank\" href=https://colab.research.google.com/notebooks/data_table.ipynb>data table notebook</a>'\n",
              "            + ' to learn more about interactive tables.';\n",
              "          element.innerHTML = '';\n",
              "          dataTable['output_type'] = 'display_data';\n",
              "          await google.colab.output.renderOutput(dataTable, element);\n",
              "          const docLink = document.createElement('div');\n",
              "          docLink.innerHTML = docLinkHtml;\n",
              "          element.appendChild(docLink);\n",
              "        }\n",
              "      </script>\n",
              "    </div>\n",
              "  </div>\n",
              "  "
            ]
          },
          "metadata": {},
          "execution_count": 40
        }
      ],
      "source": [
        "game.head()"
      ]
    },
    {
      "cell_type": "code",
      "execution_count": null,
      "id": "182234d1",
      "metadata": {
        "id": "182234d1"
      },
      "outputs": [],
      "source": [
        "game.drop([\"Name\",\"Platform\",\"Genre\",\"Publisher\",\"Developer\"],axis=1,inplace=True)"
      ]
    },
    {
      "cell_type": "code",
      "execution_count": null,
      "id": "2e89d96b",
      "metadata": {
        "id": "2e89d96b",
        "outputId": "4d519d58-04f2-48ef-e9e7-652e9b1f1f7c",
        "colab": {
          "base_uri": "https://localhost:8080/"
        }
      },
      "outputs": [
        {
          "output_type": "execute_result",
          "data": {
            "text/plain": [
              "(16719, 55)"
            ]
          },
          "metadata": {},
          "execution_count": 42
        }
      ],
      "source": [
        "scaledata=pd.get_dummies(game)\n",
        "scaledata.shape"
      ]
    },
    {
      "cell_type": "code",
      "execution_count": null,
      "id": "bb88e3c2",
      "metadata": {
        "id": "bb88e3c2"
      },
      "outputs": [],
      "source": [
        "scaler = MinMaxScaler().fit(scaledata)\n",
        "scaledData=scaler.transform(scaledata)"
      ]
    },
    {
      "cell_type": "code",
      "execution_count": null,
      "id": "545377b1",
      "metadata": {
        "id": "545377b1"
      },
      "outputs": [],
      "source": [
        "X= pd.DataFrame(scaledData)\n",
        "x=X.iloc[:14576]\n",
        "Test_data=X.iloc[14576:]"
      ]
    },
    {
      "cell_type": "code",
      "execution_count": null,
      "id": "8e23bae7",
      "metadata": {
        "id": "8e23bae7",
        "outputId": "07ba51a4-876e-4573-e31d-f4306b90f652",
        "colab": {
          "base_uri": "https://localhost:8080/"
        }
      },
      "outputs": [
        {
          "output_type": "stream",
          "name": "stdout",
          "text": [
            "0.9889708246707706\n",
            "0.15605807462929597\n"
          ]
        }
      ],
      "source": [
        "x_train,x_test,y_train,y_test= train_test_split(x,Y,train_size = 0.8, test_size = 0.2,random_state =42)\n",
        "model=GradientBoostingRegressor(n_estimators=100,max_depth=3).fit(x_train,y_train)\n",
        "y_pred=model.predict(x_test)\n",
        "r2=mean_squared_error(y_test,y_pred,squared=False)\n",
        "print(model.score(x_test,y_test))\n",
        "print(r2)"
      ]
    },
    {
      "cell_type": "code",
      "execution_count": null,
      "id": "43189429",
      "metadata": {
        "id": "43189429"
      },
      "outputs": [],
      "source": [
        "y_final=model.predict(Test_data)\n",
        "y_final=pd.DataFrame(y_final)"
      ]
    },
    {
      "cell_type": "code",
      "execution_count": null,
      "id": "653dd5e1",
      "metadata": {
        "id": "653dd5e1"
      },
      "outputs": [],
      "source": [
        "Y_final=pd.concat([gamete.Name,y_final],axis=1)"
      ]
    },
    {
      "cell_type": "code",
      "execution_count": null,
      "id": "5d65af3f",
      "metadata": {
        "id": "5d65af3f",
        "outputId": "fb71d2fc-71b5-48a3-e5ef-0c98f3160eed",
        "colab": {
          "base_uri": "https://localhost:8080/",
          "height": 328
        }
      },
      "outputs": [
        {
          "output_type": "error",
          "ename": "FileNotFoundError",
          "evalue": "ignored",
          "traceback": [
            "\u001b[0;31m---------------------------------------------------------------------------\u001b[0m",
            "\u001b[0;31mFileNotFoundError\u001b[0m                         Traceback (most recent call last)",
            "\u001b[0;32m<ipython-input-48-663d97287e32>\u001b[0m in \u001b[0;36m<module>\u001b[0;34m()\u001b[0m\n\u001b[1;32m      1\u001b[0m \u001b[0mY_final\u001b[0m\u001b[0;34m.\u001b[0m\u001b[0mrename\u001b[0m\u001b[0;34m(\u001b[0m\u001b[0mcolumns\u001b[0m\u001b[0;34m=\u001b[0m\u001b[0;34m{\u001b[0m\u001b[0;36m0\u001b[0m\u001b[0;34m:\u001b[0m\u001b[0;34m'Global sales'\u001b[0m\u001b[0;34m}\u001b[0m\u001b[0;34m,\u001b[0m \u001b[0minplace\u001b[0m\u001b[0;34m=\u001b[0m\u001b[0;32mTrue\u001b[0m\u001b[0;34m,\u001b[0m\u001b[0;34m)\u001b[0m\u001b[0;34m\u001b[0m\u001b[0;34m\u001b[0m\u001b[0m\n\u001b[0;32m----> 2\u001b[0;31m \u001b[0mY_final\u001b[0m\u001b[0;34m.\u001b[0m\u001b[0mto_csv\u001b[0m\u001b[0;34m(\u001b[0m\u001b[0;34m'D:/Work Space/Hackathon_result.csv'\u001b[0m\u001b[0;34m,\u001b[0m\u001b[0mindex\u001b[0m\u001b[0;34m=\u001b[0m \u001b[0;32mFalse\u001b[0m\u001b[0;34m)\u001b[0m\u001b[0;34m\u001b[0m\u001b[0;34m\u001b[0m\u001b[0m\n\u001b[0m",
            "\u001b[0;32m/usr/local/lib/python3.7/dist-packages/pandas/core/generic.py\u001b[0m in \u001b[0;36mto_csv\u001b[0;34m(self, path_or_buf, sep, na_rep, float_format, columns, header, index, index_label, mode, encoding, compression, quoting, quotechar, line_terminator, chunksize, date_format, doublequote, escapechar, decimal, errors, storage_options)\u001b[0m\n\u001b[1;32m   3480\u001b[0m             \u001b[0mdoublequote\u001b[0m\u001b[0;34m=\u001b[0m\u001b[0mdoublequote\u001b[0m\u001b[0;34m,\u001b[0m\u001b[0;34m\u001b[0m\u001b[0;34m\u001b[0m\u001b[0m\n\u001b[1;32m   3481\u001b[0m             \u001b[0mescapechar\u001b[0m\u001b[0;34m=\u001b[0m\u001b[0mescapechar\u001b[0m\u001b[0;34m,\u001b[0m\u001b[0;34m\u001b[0m\u001b[0;34m\u001b[0m\u001b[0m\n\u001b[0;32m-> 3482\u001b[0;31m             \u001b[0mstorage_options\u001b[0m\u001b[0;34m=\u001b[0m\u001b[0mstorage_options\u001b[0m\u001b[0;34m,\u001b[0m\u001b[0;34m\u001b[0m\u001b[0;34m\u001b[0m\u001b[0m\n\u001b[0m\u001b[1;32m   3483\u001b[0m         )\n\u001b[1;32m   3484\u001b[0m \u001b[0;34m\u001b[0m\u001b[0m\n",
            "\u001b[0;32m/usr/local/lib/python3.7/dist-packages/pandas/io/formats/format.py\u001b[0m in \u001b[0;36mto_csv\u001b[0;34m(self, path_or_buf, encoding, sep, columns, index_label, mode, compression, quoting, quotechar, line_terminator, chunksize, date_format, doublequote, escapechar, errors, storage_options)\u001b[0m\n\u001b[1;32m   1103\u001b[0m             \u001b[0mformatter\u001b[0m\u001b[0;34m=\u001b[0m\u001b[0mself\u001b[0m\u001b[0;34m.\u001b[0m\u001b[0mfmt\u001b[0m\u001b[0;34m,\u001b[0m\u001b[0;34m\u001b[0m\u001b[0;34m\u001b[0m\u001b[0m\n\u001b[1;32m   1104\u001b[0m         )\n\u001b[0;32m-> 1105\u001b[0;31m         \u001b[0mcsv_formatter\u001b[0m\u001b[0;34m.\u001b[0m\u001b[0msave\u001b[0m\u001b[0;34m(\u001b[0m\u001b[0;34m)\u001b[0m\u001b[0;34m\u001b[0m\u001b[0;34m\u001b[0m\u001b[0m\n\u001b[0m\u001b[1;32m   1106\u001b[0m \u001b[0;34m\u001b[0m\u001b[0m\n\u001b[1;32m   1107\u001b[0m         \u001b[0;32mif\u001b[0m \u001b[0mcreated_buffer\u001b[0m\u001b[0;34m:\u001b[0m\u001b[0;34m\u001b[0m\u001b[0;34m\u001b[0m\u001b[0m\n",
            "\u001b[0;32m/usr/local/lib/python3.7/dist-packages/pandas/io/formats/csvs.py\u001b[0m in \u001b[0;36msave\u001b[0;34m(self)\u001b[0m\n\u001b[1;32m    241\u001b[0m             \u001b[0merrors\u001b[0m\u001b[0;34m=\u001b[0m\u001b[0mself\u001b[0m\u001b[0;34m.\u001b[0m\u001b[0merrors\u001b[0m\u001b[0;34m,\u001b[0m\u001b[0;34m\u001b[0m\u001b[0;34m\u001b[0m\u001b[0m\n\u001b[1;32m    242\u001b[0m             \u001b[0mcompression\u001b[0m\u001b[0;34m=\u001b[0m\u001b[0mself\u001b[0m\u001b[0;34m.\u001b[0m\u001b[0mcompression\u001b[0m\u001b[0;34m,\u001b[0m\u001b[0;34m\u001b[0m\u001b[0;34m\u001b[0m\u001b[0m\n\u001b[0;32m--> 243\u001b[0;31m             \u001b[0mstorage_options\u001b[0m\u001b[0;34m=\u001b[0m\u001b[0mself\u001b[0m\u001b[0;34m.\u001b[0m\u001b[0mstorage_options\u001b[0m\u001b[0;34m,\u001b[0m\u001b[0;34m\u001b[0m\u001b[0;34m\u001b[0m\u001b[0m\n\u001b[0m\u001b[1;32m    244\u001b[0m         ) as handles:\n\u001b[1;32m    245\u001b[0m \u001b[0;34m\u001b[0m\u001b[0m\n",
            "\u001b[0;32m/usr/local/lib/python3.7/dist-packages/pandas/io/common.py\u001b[0m in \u001b[0;36mget_handle\u001b[0;34m(path_or_buf, mode, encoding, compression, memory_map, is_text, errors, storage_options)\u001b[0m\n\u001b[1;32m    705\u001b[0m                 \u001b[0mencoding\u001b[0m\u001b[0;34m=\u001b[0m\u001b[0mioargs\u001b[0m\u001b[0;34m.\u001b[0m\u001b[0mencoding\u001b[0m\u001b[0;34m,\u001b[0m\u001b[0;34m\u001b[0m\u001b[0;34m\u001b[0m\u001b[0m\n\u001b[1;32m    706\u001b[0m                 \u001b[0merrors\u001b[0m\u001b[0;34m=\u001b[0m\u001b[0merrors\u001b[0m\u001b[0;34m,\u001b[0m\u001b[0;34m\u001b[0m\u001b[0;34m\u001b[0m\u001b[0m\n\u001b[0;32m--> 707\u001b[0;31m                 \u001b[0mnewline\u001b[0m\u001b[0;34m=\u001b[0m\u001b[0;34m\"\"\u001b[0m\u001b[0;34m,\u001b[0m\u001b[0;34m\u001b[0m\u001b[0;34m\u001b[0m\u001b[0m\n\u001b[0m\u001b[1;32m    708\u001b[0m             )\n\u001b[1;32m    709\u001b[0m         \u001b[0;32melse\u001b[0m\u001b[0;34m:\u001b[0m\u001b[0;34m\u001b[0m\u001b[0;34m\u001b[0m\u001b[0m\n",
            "\u001b[0;31mFileNotFoundError\u001b[0m: [Errno 2] No such file or directory: 'D:/Work Space/Hackathon_result.csv'"
          ]
        }
      ],
      "source": [
        "Y_final.rename(columns={0:'Global sales'}, inplace=True,)\n",
        "Y_final.to_csv('D:/Work Space/Hackathon_result.csv',index= False)"
      ]
    },
    {
      "cell_type": "code",
      "execution_count": null,
      "id": "2e98a79f",
      "metadata": {
        "id": "2e98a79f"
      },
      "outputs": [],
      "source": [
        ""
      ]
    }
  ],
  "metadata": {
    "kernelspec": {
      "display_name": "Python 3 (ipykernel)",
      "language": "python",
      "name": "python3"
    },
    "language_info": {
      "codemirror_mode": {
        "name": "ipython",
        "version": 3
      },
      "file_extension": ".py",
      "mimetype": "text/x-python",
      "name": "python",
      "nbconvert_exporter": "python",
      "pygments_lexer": "ipython3",
      "version": "3.9.7"
    },
    "colab": {
      "name": "Hackathon-Copy1 (1).ipynb",
      "provenance": []
    }
  },
  "nbformat": 4,
  "nbformat_minor": 5
}